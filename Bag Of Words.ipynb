{
 "cells": [
  {
   "cell_type": "markdown",
   "metadata": {},
   "source": [
    "# Bag Of Words(BoW)"
   ]
  },
  {
   "cell_type": "markdown",
   "metadata": {},
   "source": [
    "### Steps involved in BoW are:"
   ]
  },
  {
   "cell_type": "markdown",
   "metadata": {},
   "source": [
    "#### 1. Contruction of a d-dimenional dictionary "
   ]
  },
  {
   "cell_type": "markdown",
   "metadata": {},
   "source": [
    "- Here, we create an array of all the unique words in the document corpus.\n",
    "- Let there be 'd' unique words.\n",
    "- Every unique word is a dimension."
   ]
  },
  {
   "cell_type": "markdown",
   "metadata": {},
   "source": [
    "> **Note 1:** A text, which could be a word or a sentence, is known as a document in NLP."
   ]
  },
  {
   "cell_type": "markdown",
   "metadata": {},
   "source": [
    "> **Note 2:** A collection of such documents is known as a document corpus."
   ]
  },
  {
   "cell_type": "markdown",
   "metadata": {},
   "source": [
    "#### 1.1 Example:"
   ]
  },
  {
   "cell_type": "markdown",
   "metadata": {},
   "source": [
    "Let there be two documents in the document corpus as given below:\n",
    "1. This car drives good and is expensive.\n",
    "2. This car is not expensive and drives good.\n",
    "\n",
    "We create a dictionary(or an array) of all the unique words in the document corpus as:\n",
    "\n",
    "`[This, car, drives, good, and, is, expensive, not]`"
   ]
  },
  {
   "cell_type": "markdown",
   "metadata": {},
   "source": [
    "#### 2. Creating vector of a document"
   ]
  },
  {
   "cell_type": "markdown",
   "metadata": {},
   "source": [
    "- For every document we create a d-dimensional vector.\n",
    "- Every dimension of a vector corresponds to a unique word.\n",
    "- The value of every dimension is equivalent to the number of occurences of the unique word, in the given document, corresponding to that dimension."
   ]
  },
  {
   "cell_type": "markdown",
   "metadata": {},
   "source": [
    "> **Note 3:** Generally the BoW creates sparse vectors. In a sparse vector, most of the dimensions have 0 value."
   ]
  },
  {
   "cell_type": "markdown",
   "metadata": {},
   "source": [
    "#### 2.1 Example:"
   ]
  },
  {
   "cell_type": "markdown",
   "metadata": {},
   "source": [
    "Let vectors v<sub>1</sub> and v<sub>2</sub> correspond to document 1 and document 2 respectively. Then these vectors are represented as:\n",
    "\n",
    "v<sub>1</sub> = `[1 1 1 1 1 1 1 0]`\n",
    "\n",
    "v<sub>2</sub> = `[1 1 1 1 1 1 1 1]`"
   ]
  },
  {
   "cell_type": "markdown",
   "metadata": {},
   "source": [
    "#### 3. Calculating the distance between vectors"
   ]
  },
  {
   "cell_type": "markdown",
   "metadata": {},
   "source": [
    "- The Euclidean distance is found between the vectors.\n",
    "- Smaller Euclidean distance between the considered vectors corresponds to greater similarity between their corresponding documents.\n",
    "- On the other hand, larger Euclidean distance between the considered vectors corresponds to lesser similarity between their corresponding documents."
   ]
  },
  {
   "cell_type": "markdown",
   "metadata": {},
   "source": [
    "#### 3.1 Example:"
   ]
  },
  {
   "cell_type": "markdown",
   "metadata": {},
   "source": [
    "We calculate the Euclidean distance between v<sub>1</sub> and v<sub>2</sub> as:\n",
    "\n",
    "|v<sub>1</sub>-v<sub>2</sub>| = 1"
   ]
  },
  {
   "cell_type": "markdown",
   "metadata": {},
   "source": [
    "### Binary BoW- Variation of BoW"
   ]
  },
  {
   "cell_type": "markdown",
   "metadata": {},
   "source": [
    "- Here, the value of a dimension of a vector is either 0 or 1.\n",
    "- The value is 1 if the occurences of the unique word, corresponding to the dimension, is atleast once and 0 otherwise.\n",
    "- Binary BoW is also known as boolean BoW."
   ]
  },
  {
   "cell_type": "markdown",
   "metadata": {},
   "source": [
    "## Conclusion:"
   ]
  },
  {
   "cell_type": "markdown",
   "metadata": {},
   "source": [
    "- Bag of words can be thought of as counting the differing words between vectors.\n",
    "- Bag of words doesn't work well when there is subtle differences in words.\n",
    "- That means BoW doesn't consider the semantic meaning of words. For example the words 'tasty' and 'delicious' are synonyms yet the BoW considers them different.\n",
    "- Bag of words contains a lot of stopwords(which are trivial)."
   ]
  }
 ],
 "metadata": {
  "kernelspec": {
   "display_name": "Python [conda env:Anaconda3]",
   "language": "python",
   "name": "conda-env-Anaconda3-py"
  },
  "language_info": {
   "codemirror_mode": {
    "name": "ipython",
    "version": 3
   },
   "file_extension": ".py",
   "mimetype": "text/x-python",
   "name": "python",
   "nbconvert_exporter": "python",
   "pygments_lexer": "ipython3",
   "version": "3.6.6"
  }
 },
 "nbformat": 4,
 "nbformat_minor": 2
}
