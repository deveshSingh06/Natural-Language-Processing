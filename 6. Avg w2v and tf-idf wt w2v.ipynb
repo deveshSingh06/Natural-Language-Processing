{
 "cells": [
  {
   "cell_type": "markdown",
   "metadata": {},
   "source": [
    "# Weighting schemes of converting sentences to vector"
   ]
  },
  {
   "cell_type": "markdown",
   "metadata": {},
   "source": [
    "Two schemes of converting sentences(documents) to vectors are discussed in this notebook:"
   ]
  },
  {
   "cell_type": "markdown",
   "metadata": {},
   "source": [
    "## 1. Average Word to Vector(Avg w2v)"
   ]
  },
  {
   "cell_type": "markdown",
   "metadata": {},
   "source": [
    "Let a document $d_{1}$ consists of __n__ words i.e  $d_{i}$ = $w_{1}$ $w_{2}$ $w_{3}$ .... $w_{n}$"
   ]
  },
  {
   "cell_type": "markdown",
   "metadata": {},
   "source": [
    "Now the Avg w2v($d_{1}$) is given as:\n",
    "\n",
    "> $$\n",
    "\\text{Avg w2v($d_{1}$)} = \\frac{\\sum_{i=1}^{n}w2v(\\text{$w_{i}$})}{n}\n",
    "$$"
   ]
  },
  {
   "cell_type": "markdown",
   "metadata": {},
   "source": [
    "## 2. TF-IDF Weighted W2V"
   ]
  },
  {
   "cell_type": "markdown",
   "metadata": {},
   "source": [
    "Let a document $d_{1}$ consists of __n__ words i.e  $d_{i}$ = $w_{1}$ $w_{2}$ $w_{3}$ .... $w_{n}$"
   ]
  },
  {
   "cell_type": "markdown",
   "metadata": {},
   "source": [
    "Now the tf-idf w2v($d_{1}$) is given as:\n",
    "\n",
    "> \\begin{equation*}\n",
    "\\text{Tf-Idf w2v($d_{1}$)} = \\frac{\\sum_{i=1}^{n}t_i * w2v(\\text{$w_{i}$})}{\\sum_{i=1}^{n}\\text{$t_{i}$}}\n",
    "\\end{equation*}\n",
    "\n",
    "<center>where $t_{i}$ = Tf-Idf($w_{i}$, $d_{1}$)</center>"
   ]
  },
  {
   "cell_type": "markdown",
   "metadata": {},
   "source": [
    "> **Note:** If $t_{i}$ = 1 then, Tf-Idf w2v($d_{i}$) = Avg w2v($d_{i}$)."
   ]
  },
  {
   "cell_type": "markdown",
   "metadata": {},
   "source": [
    "> **Note:** Avg w2v and Tf-idf w2v are not perfect but they work fairly well, but not always."
   ]
  },
  {
   "cell_type": "code",
   "execution_count": null,
   "metadata": {},
   "outputs": [],
   "source": []
  }
 ],
 "metadata": {
  "kernelspec": {
   "display_name": "Python [conda env:Anaconda3]",
   "language": "python",
   "name": "conda-env-Anaconda3-py"
  },
  "language_info": {
   "codemirror_mode": {
    "name": "ipython",
    "version": 3
   },
   "file_extension": ".py",
   "mimetype": "text/x-python",
   "name": "python",
   "nbconvert_exporter": "python",
   "pygments_lexer": "ipython3",
   "version": "3.6.6"
  }
 },
 "nbformat": 4,
 "nbformat_minor": 2
}
