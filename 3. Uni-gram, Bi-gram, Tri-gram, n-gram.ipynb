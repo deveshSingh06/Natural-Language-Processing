{
 "cells": [
  {
   "cell_type": "markdown",
   "metadata": {},
   "source": [
    "# Uni-gram, Bi-gram, Tri-gram, n-gram"
   ]
  },
  {
   "cell_type": "markdown",
   "metadata": {},
   "source": [
    "## Uni-gram"
   ]
  },
  {
   "cell_type": "markdown",
   "metadata": {},
   "source": [
    "- Here, every single word in a document is a dimension.\n",
    "- For example let there be a document corpus as given below:\n",
    "  1. This car drives good and is expensive.\n",
    "  2. This car is very expensive and drives good.\n",
    "     - Uni-gram for the above document corpus is given as:\n",
    "     \n",
    "     `['This', 'car', 'drives', 'good', 'and', 'is', 'expensive', 'very']`"
   ]
  },
  {
   "cell_type": "markdown",
   "metadata": {},
   "source": [
    "## Bi-gram"
   ]
  },
  {
   "cell_type": "markdown",
   "metadata": {},
   "source": [
    "- Here, every pair of consecutive words is a dimension.\n",
    "- Usage example using the above discussed document corpus:\n",
    "  - Bi-gram for the above document corpus is given as:\n",
    "  \n",
    "    `['This car', 'car drives', 'drives good', 'good and', 'and is', 'is expensive', 'car is', 'is very', 'very expensive', 'and drives']`"
   ]
  },
  {
   "cell_type": "markdown",
   "metadata": {},
   "source": [
    "## Tri-gram"
   ]
  },
  {
   "cell_type": "markdown",
   "metadata": {},
   "source": [
    "- Here, every triplet of consecutive words is a dimension.\n",
    "- Usage example using the above discussed document corpus:\n",
    "  - Tri-gram for the above document corpus is given as:\n",
    "  \n",
    "    `['This car drives', 'car drives good', 'drives good and', 'good and is', 'and is expensive', 'This car is', 'car is very', 'is very expensive', 'expensive and drives', 'and drives good']`"
   ]
  },
  {
   "cell_type": "markdown",
   "metadata": {},
   "source": [
    "## n-gram"
   ]
  },
  {
   "cell_type": "markdown",
   "metadata": {},
   "source": [
    "- Here, every group of n consecutive words is a dimension."
   ]
  },
  {
   "cell_type": "markdown",
   "metadata": {},
   "source": [
    "> **Note:** For a given document corpus we have: \n",
    "\n",
    "`Number of n-grams >=.....>= Number of 4-grams >= Number of tri-grams >= Number of bi-grams >= Number of uni-grams`"
   ]
  },
  {
   "cell_type": "markdown",
   "metadata": {},
   "source": [
    "> **Note:** Bi-grams and tri-grams are very useful in Bag of Words."
   ]
  },
  {
   "cell_type": "code",
   "execution_count": null,
   "metadata": {},
   "outputs": [],
   "source": []
  }
 ],
 "metadata": {
  "kernelspec": {
   "display_name": "Python [conda env:Anaconda3]",
   "language": "python",
   "name": "conda-env-Anaconda3-py"
  },
  "language_info": {
   "codemirror_mode": {
    "name": "ipython",
    "version": 3
   },
   "file_extension": ".py",
   "mimetype": "text/x-python",
   "name": "python",
   "nbconvert_exporter": "python",
   "pygments_lexer": "ipython3",
   "version": "3.6.6"
  }
 },
 "nbformat": 4,
 "nbformat_minor": 2
}
