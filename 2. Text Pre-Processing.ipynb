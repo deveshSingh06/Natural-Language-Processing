{
 "cells": [
  {
   "cell_type": "markdown",
   "metadata": {},
   "source": [
    "# Text Pre-Processing"
   ]
  },
  {
   "cell_type": "markdown",
   "metadata": {},
   "source": [
    "## Some of the text pre-processing techniques are:"
   ]
  },
  {
   "cell_type": "markdown",
   "metadata": {},
   "source": [
    "### 1. Stop-words removal"
   ]
  },
  {
   "cell_type": "markdown",
   "metadata": {},
   "source": [
    "- Stop-words are trivial words such as 'this', 'is', 'and', 'they', 'their', etc in a given document.\n",
    "- Removing stop-words makes the dictionary, of all the unique words in a document corpus, smaller and more meaningful.\n",
    "- Hence, the dimensionality of vectors also decreases.\n",
    "- All the english stop-words are(found out using the 'nltk.corpus' library) mentioned below:\n",
    "\n",
    "`{'br', 'the', 'i', 'me', 'my', 'myself', 'we', 'our', 'ours', 'ourselves', 'you', \"you're\", \"you've\",\\\n",
    "            \"you'll\", \"you'd\", 'your', 'yours', 'yourself', 'yourselves', 'he', 'him', 'his', 'himself', \\\n",
    "            'she', \"she's\", 'her', 'hers', 'herself', 'it', \"it's\", 'its', 'itself', 'they', 'them', 'their',\\\n",
    "            'theirs', 'themselves', 'what', 'which', 'who', 'whom', 'this', 'that', \"that'll\", 'these', 'those', \\\n",
    "            'am', 'is', 'are', 'was', 'were', 'be', 'been', 'being', 'have', 'has', 'had', 'having', 'do', 'does', \\\n",
    "            'did', 'doing', 'a', 'an', 'the', 'and', 'but', 'if', 'or', 'because', 'as', 'until', 'while', 'of', \\\n",
    "            'at', 'by', 'for', 'with', 'about', 'against', 'between', 'into', 'through', 'during', 'before', 'after',\\\n",
    "            'above', 'below', 'to', 'from', 'up', 'down', 'in', 'out', 'on', 'off', 'over', 'under', 'again', 'further',\\\n",
    "            'then', 'once', 'here', 'there', 'when', 'where', 'why', 'how', 'all', 'any', 'both', 'each', 'few', 'more',\\\n",
    "            'most', 'other', 'some', 'such', 'only', 'own', 'same', 'so', 'than', 'too', 'very', \\\n",
    "            's', 't', 'can', 'will', 'just', 'don', \"don't\", 'should', \"should've\", 'now', 'd', 'll', 'm', 'o', 're', \\\n",
    "            've', 'y', 'ain', 'aren', \"aren't\", 'couldn', \"couldn't\", 'didn', \"didn't\", 'doesn', \"doesn't\", 'hadn',\\\n",
    "            \"hadn't\", 'hasn', \"hasn't\", 'haven', \"haven't\", 'isn', \"isn't\", 'ma', 'mightn', \"mightn't\", 'mustn',\\\n",
    "            \"mustn't\", 'needn', \"needn't\", 'shan', \"shan't\", 'shouldn', \"shouldn't\", 'wasn', \"wasn't\", 'weren', \"weren't\", \\\n",
    "            'won', \"won't\", 'wouldn', \"wouldn't\"}`"
   ]
  },
  {
   "cell_type": "markdown",
   "metadata": {},
   "source": [
    "> **Note:** One should wisely remove/keep the stop-words in a vector or they(stop-words) might change the complete meaning of the document(text statement). "
   ]
  },
  {
   "cell_type": "markdown",
   "metadata": {},
   "source": [
    "### 2. Converting all the letters to the lower case"
   ]
  },
  {
   "cell_type": "markdown",
   "metadata": {},
   "source": [
    "- Converting all the letters to lower case helps us to reduce any redundancy of same words.\n",
    "- Hence, this results in lesser dimensional vectors.\n",
    "- For example let there be two documents as given below:\n",
    "  1. This car drives good and is expensive.\n",
    "  2. Car is not expensive and doesn't drive good.\n",
    "     - For the above documents the dictionary will have all the unique words and 'Car' & 'car' will be treated as two different words.\n",
    "     - Now converting 'Car' to lower case 'car' will reduce one dimension."
   ]
  },
  {
   "cell_type": "markdown",
   "metadata": {},
   "source": [
    "### 3. Stemming"
   ]
  },
  {
   "cell_type": "markdown",
   "metadata": {},
   "source": [
    "- Stemming is removing multiple words that have the same root word and keeping only the root word.\n",
    "- For example the words 'plays', 'playful', 'playing' have the root word 'play'. We remove all these similar words and keep the root word 'play'.\n",
    "- Some algorithms used for stemming are:\n",
    "  1. Porter Stemmer\n",
    "  2. Snowball Stemmer\n",
    "- Snowball stemmer is stronger than Porter stemmer.\n",
    "\n",
    "<img src=\"https://res.cloudinary.com/dyd911kmh/image/upload/f_auto,q_auto:best/v1539984207/stemminglemmatization_n8bmou.jpg\" width=\"600\">"
   ]
  },
  {
   "cell_type": "markdown",
   "metadata": {},
   "source": [
    "### 4. Lemmatization"
   ]
  },
  {
   "cell_type": "markdown",
   "metadata": {},
   "source": [
    "- Lemmatization, unlike stemming, reduces the inflected words properly ensuring that the root word belongs to the language.\n",
    "- Lemmatization converts words in the second or third forms to their first form variants.\n",
    "- Lemmatization is similar to stemming but it brings context to the words. So it links words with similar meaning to one word.\n",
    "- In Lemmatization root word is called lemma.\n",
    "- Lemmatization returns the dictionary form of a word.\n",
    "- Actually, lemmatization is preferred over stemming because lemmatization does morphological analysis of the words.\n",
    "- Applications of lemmatization are:\n",
    "  - Used in comprehensive retrieval systems like search engines.\n",
    "  - Used in compact indexing\n",
    "- For example consider the following document: \n",
    ">`\"A letter has been written, asking him to be released\"`\n",
    "- Lemmatization of the above document looks like:\n",
    "\n",
    "\n",
    ">`A ===> a  \n",
    "letter ===> letter  \n",
    "has ===> have  \n",
    "been ===> be  \n",
    "written ===> write  \n",
    ", ===> ,\n",
    "asking ===> ask  \n",
    "him ===> -PRON-  \n",
    "to ===> to  \n",
    "be ===> be  \n",
    "released ===> release`"
   ]
  },
  {
   "cell_type": "markdown",
   "metadata": {},
   "source": [
    "### 5. Tokenization"
   ]
  },
  {
   "cell_type": "markdown",
   "metadata": {},
   "source": [
    "- Breaking a sentence into words is knwon as tokenization.\n",
    "- Tokenization is language specific.\n",
    "- For example let a document be 'The sun rises from the east'. Tokenizing this document we get:\n",
    "\n",
    "`['The', 'sun', 'rises', 'from', 'the', 'east']`"
   ]
  },
  {
   "cell_type": "markdown",
   "metadata": {},
   "source": [
    "> **Note:** -  Before text pre-processing, one must also try to clean the data by using some data cleaning techniques such as deduplication, removing extra spaces, spell check, etc.\n",
    "    - Deduplication means removing the duplicates in the data."
   ]
  },
  {
   "cell_type": "code",
   "execution_count": null,
   "metadata": {},
   "outputs": [],
   "source": []
  }
 ],
 "metadata": {
  "kernelspec": {
   "display_name": "Python [conda env:Anaconda3]",
   "language": "python",
   "name": "conda-env-Anaconda3-py"
  },
  "language_info": {
   "codemirror_mode": {
    "name": "ipython",
    "version": 3
   },
   "file_extension": ".py",
   "mimetype": "text/x-python",
   "name": "python",
   "nbconvert_exporter": "python",
   "pygments_lexer": "ipython3",
   "version": "3.6.6"
  }
 },
 "nbformat": 4,
 "nbformat_minor": 2
}
